{
 "cells": [
  {
   "cell_type": "markdown",
   "id": "8b85aa4b-80ea-4ffc-a6b8-80dd7ea03213",
   "metadata": {},
   "source": [
    "# Linearization"
   ]
  },
  {
   "cell_type": "code",
   "execution_count": 49,
   "id": "537d5321-f0bb-476a-a51c-f6a9a01310b1",
   "metadata": {},
   "outputs": [],
   "source": [
    "from modelon.impact.client import Client"
   ]
  },
  {
   "cell_type": "code",
   "execution_count": null,
   "id": "e24d70b7-8d0f-424a-baba-870e12e5e2eb",
   "metadata": {},
   "outputs": [],
   "source": [
    "# Initializing the client and choosing the workspace\n",
    "client = Client()\n",
    "workspace = client.get_workspace(input(\"Select a workspace with Linearize project as an editable dependency.\"))"
   ]
  },
  {
   "cell_type": "code",
   "execution_count": null,
   "id": "7625de2b-1d21-4f51-938c-c20604bee495",
   "metadata": {},
   "outputs": [],
   "source": [
    "# Asserting if linearize is an editable or read-only dependency to the choosen workspace\n",
    "linearize_project = [project for project in workspace.get_projects() if project.definition.name =='Linearize']\n",
    "if not linearize_project:\n",
    "    raise ValueError(\"The workspace doesn't have 'Linearize' project as an editable or read-only dependency.\")"
   ]
  },
  {
   "cell_type": "code",
   "execution_count": null,
   "id": "9c6894c6-8099-41a9-9436-90269d9b6b92",
   "metadata": {},
   "outputs": [],
   "source": [
    "# Choose analysis type\n",
    "linearize = workspace.get_custom_function('Linearize.linearize')"
   ]
  },
  {
   "cell_type": "code",
   "execution_count": null,
   "id": "08a1bd27-bf3b-48fc-ade4-92087511cb53",
   "metadata": {},
   "outputs": [],
   "source": [
    "# Choose model to linearize\n",
    "model=workspace.get_model('LinearizeExample.HeatingSystemNonLinear')"
   ]
  },
  {
   "cell_type": "code",
   "execution_count": null,
   "id": "64a31e61-4b42-4f2e-927c-7f49bc9d4d53",
   "metadata": {},
   "outputs": [],
   "source": [
    "# Setting up experiment\n",
    "experiment_definition = model.new_experiment_definition(linearize.with_parameters(t_linearize=100))"
   ]
  },
  {
   "cell_type": "code",
   "execution_count": 46,
   "id": "35228e28-b118-42f2-88a3-a3cc73f2909a",
   "metadata": {},
   "outputs": [],
   "source": [
    "# Execute experiment\n",
    "exp = workspace.execute(experiment_definition).wait()"
   ]
  },
  {
   "cell_type": "code",
   "execution_count": 47,
   "id": "8f4c02c3-d0bf-4f36-a56b-c4ce8c8b60f6",
   "metadata": {},
   "outputs": [
    {
     "name": "stdout",
     "output_type": "stream",
     "text": [
      "Final Run Statistics: --- \n",
      "\n",
      " Number of steps                                 : 501\n",
      " Number of function evaluations                  : 505\n",
      " Number of Jacobian evaluations                  : 9\n",
      " Number of function eval. due to Jacobian eval.  : 0\n",
      " Number of error test failures                   : 0\n",
      " Number of nonlinear iterations                  : 501\n",
      " Number of nonlinear convergence failures        : 0\n",
      " Number of state function evaluations            : 502\n",
      "\n",
      "Solver options:\n",
      "\n",
      " Solver                   : CVode\n",
      " Linear multistep method  : BDF\n",
      " Nonlinear solver         : Newton\n",
      " Linear solver type       : DENSE\n",
      " Maximal order            : 5\n",
      " Tolerances (absolute)    : [5.e-03 5.e-03 1.e-02 5.e-03 1.e-02 5.e-03 5.e-03 1.e-02 1.e-02 1.e-08]\n",
      " Tolerances (relative)    : 1e-06\n",
      "\n",
      "Simulation interval    : 0.0 - 100.0 seconds.\n",
      "Elapsed simulation time: 0.36551278899787576 seconds.\n",
      "\n",
      "A = [\n",
      "[-0.0002060842471302771, 0.0, 1.1575075883290671e-08, 0.00014035547282644062, 0.031921504079555636, 0.0, 0.0, 0.0, 0.0, -313.11986656843504],\n",
      "[0.11764605586030087, -0.07583823682257676, -13635.64378906099, 0.0, 0.0, 0.0, 0.0, 10052.599273522104, 0.0, -1.4416359504127851],\n",
      "[116.76227751204573, -65.29565367815954, -13655417.407308945, 0.0, 0.0, 0.0, 0.0, 9799330.23338446, 0.0, -1430.7882079194683],\n",
      "[-0.08158335967524673, 0.0, 0.0, -0.05076152728989021, -152.06053305045137, 0.0, 0.0016461104725060843, 0.0, 0.11381958402842604, 1486694.8668020265],\n",
      "[-81.37040695821696, 0.0, 0.0, -24.552465989027425, -151653.77113101416, 0.0, -0.057674199350347705, 0.0, 103.65317922614591, 1482814226.1631582],\n",
      "[0.0, 0.030335294695298696, 4021.039671296785, 0.0, 0.0, -0.03033530222627826, 0.0, -4423.143643235811, 402.10397167527327, 0.0],\n",
      "[0.0, 0.0, 0.0, 0.0, 0.22824653552448412, 0.030335301383738612, -0.004178929427143678, 402.10393370963527, -402.33220528596297, 0.0],\n",
      "[0.0, 26.118261357967263, 3919732.051395754, 0.0, 0.0, -26.118268727587154, 0.0, -4311705.261260361, 391973.20957065147, 0.0],\n",
      "[0.0, 0.0, 0.0, 0.0, 222.49600180618737, 26.118267499536085, -0.6208896385406434, 391973.1677553495, -392195.6881704207, 0.0],\n",
      "[2.094665722540074e-09, 0.0, 2.5852241909911545e-05, 7.534815278216022e-10, 5.343755720454541e-06, 0.0, 0.0, 0.0, 0.0, -0.05228503622321921],\n",
      "]\n",
      "\n",
      "B = [\n",
      "[0.0, 0.0],\n",
      "[8.851726642399184, 0.0],\n",
      "[2262.5151240537334, 0.0],\n",
      "[0.0, 42854.4251262934],\n",
      "[0.0, 39026652.98102287],\n",
      "[0.0, 0.0],\n",
      "[0.0, -85938.42272626278],\n",
      "[0.0, 0.0],\n",
      "[0.0, -83773256.0259707],\n",
      "[0.0, 0.0],\n",
      "]\n",
      "\n",
      "C = [\n",
      "[0.0, 0.00023853341674804688, 0.0, 0.0, 0.0, 0.0, 0.0, -1.934814453125e-07, 0.0, 0.0],\n",
      "[1.068115234375e-10, 0.0, 0.0, 0.000239057373046875, -1.10626220703125e-10, 0.0, 0.0, 0.0, 0.0, -0.00218963623046875],\n",
      "]\n",
      "\n",
      "D = [\n",
      "[0.0, 0.0],\n",
      "[0.0, 0.0],\n",
      "]\n",
      "\n",
      "# At operating point 100s :\n",
      "\n",
      "state_names = ['tank.medium.h', 'heater.mediums[1].h', 'heater.mediums[1].p', 'radiator.mediums[1].h', 'radiator.mediums[1].p', 'pipe.mediums[1].h', 'pipe.mediums[2].h', 'pipe.mediums[1].p', 'pipe.mediums[2].p', 'tank.level']\n",
      "\n",
      "operating_point_states = [93216.25060572974, 314496.2501481131, 129994.74324491085, 99191.81743206181, 111134.74512327781, 314496.2501481131, 314496.2501481131, 129992.60541914741, 129971.22716163349, 0.9999999999999999]\n",
      "\n",
      "operating_point_derivatives = [0.0, 1.0998352672125354e-09, 3.0075413853999386e-06, 1.4072751375665276e-10, 1.3236968623617048e-07, 1.040827425298707e-08, -3.2141943254018487e-09, 1.0146042619249334e-05, -3.133202663821624e-06, 0.0]\n",
      "\n",
      "input_names = ['u[1]', 'u[2]']\n",
      "\n",
      "operating_point_inputs = [300.0, 0.1]\n",
      "\n",
      "output_names = ['y[1]', 'y[2]']\n",
      "\n",
      "operating_point_outputs = [348.2565932560833, 296.7991289289489]\n",
      "\n",
      "Stored artifact with ID: ABCD\n",
      "\n",
      "Artifact can be downloaded from @artifact[here](api/workspaces/testlinearize/experiments/linearizeexample_heatingsystemnonlinear_20230302_131526_1fda59e/cases/case_1/custom-artifacts/ABCD)\n",
      "\n"
     ]
    }
   ],
   "source": [
    "# Getting the simulated log from the case object\n",
    "case = exp.get_case('case_1')\n",
    "case.get_log().show()"
   ]
  }
 ],
 "metadata": {
  "kernelspec": {
   "display_name": "OCT",
   "language": "python",
   "name": "oct"
  },
  "language_info": {
   "codemirror_mode": {
    "name": "ipython",
    "version": 3
   },
   "file_extension": ".py",
   "mimetype": "text/x-python",
   "name": "python",
   "nbconvert_exporter": "python",
   "pygments_lexer": "ipython3",
   "version": "3.9.5"
  }
 },
 "nbformat": 4,
 "nbformat_minor": 5
}
